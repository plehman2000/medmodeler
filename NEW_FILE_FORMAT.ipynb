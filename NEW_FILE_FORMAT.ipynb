{
 "cells": [
  {
   "cell_type": "code",
   "execution_count": 1,
   "metadata": {},
   "outputs": [],
   "source": [
    "import numpy as np\n",
    "import codecs, json \n"
   ]
  },
  {
   "cell_type": "code",
   "execution_count": 2,
   "metadata": {},
   "outputs": [],
   "source": [
    "import numpy as np\n",
    "test_arr = np.load(os.getcwd() + \"/DATA/sample/sample0.npy\")\n"
   ]
  },
  {
   "cell_type": "code",
   "execution_count": 7,
   "metadata": {},
   "outputs": [],
   "source": [
    "test_arr = test_arr.tolist()"
   ]
  },
  {
   "cell_type": "code",
   "execution_count": 3,
   "metadata": {},
   "outputs": [],
   "source": [
    "test_arr = test_arr[:][:][:][:5]"
   ]
  },
  {
   "cell_type": "code",
   "execution_count": 10,
   "metadata": {},
   "outputs": [],
   "source": [
    "test_arr = test_arr[:,:,:, :5]"
   ]
  },
  {
   "cell_type": "code",
   "execution_count": 16,
   "metadata": {},
   "outputs": [],
   "source": [
    "\n",
    "file_path = os.getcwd() + \"\\DATA\\\\npz\\\\\" + \"sample0.npy\" ## your path variable\n",
    "np.savez_compressed(file_path, test_data=test_arr)"
   ]
  },
  {
   "cell_type": "code",
   "execution_count": 5,
   "metadata": {},
   "outputs": [],
   "source": [
    "import numpy as np\n",
    "\n",
    "my_data = np.random.randint(0,255, size = (1,256,256,10)) # Generate an array with 250 elements; each element is an integer between 0~254\n",
    "np.savez_compressed('data.npz', test_data=my_data) # Name that array 'test_data' and save it into 'data.npz' file"
   ]
  },
  {
   "cell_type": "code",
   "execution_count": 6,
   "metadata": {},
   "outputs": [
    {
     "data": {
      "text/plain": [
       "array([[[[ 54, 188, 178, ..., 239, 227,  20],\n",
       "         [254, 241,  57, ...,  11,  90, 122],\n",
       "         [223, 160,  84, ...,  53, 180, 118],\n",
       "         ...,\n",
       "         [241,  96, 249, ...,   4, 205, 118],\n",
       "         [ 88,  60, 229, ..., 181, 247, 221],\n",
       "         [203,  38,  19, ...,  11, 155, 151]],\n",
       "\n",
       "        [[200,  50,  38, ..., 186, 115, 173],\n",
       "         [241,  21, 142, ..., 191, 156, 120],\n",
       "         [ 12, 147,  53, ..., 187,  88, 139],\n",
       "         ...,\n",
       "         [112,  96, 100, ..., 113,  92, 243],\n",
       "         [196, 231,  22, ...,  84, 129,   3],\n",
       "         [209,  94, 117, ...,  19, 240,  50]],\n",
       "\n",
       "        [[208,  27, 186, ..., 216, 122,  91],\n",
       "         [114,  14,  97, ..., 135, 122, 199],\n",
       "         [217,  11, 124, ..., 165,  78,  37],\n",
       "         ...,\n",
       "         [ 82, 139,  57, ..., 172,  29,  61],\n",
       "         [ 57,  14, 238, ..., 110, 252, 226],\n",
       "         [ 40,  43, 203, ...,  31,  16, 215]],\n",
       "\n",
       "        ...,\n",
       "\n",
       "        [[251,  46, 191, ..., 118, 242, 110],\n",
       "         [ 61,  15, 139, ..., 211, 192, 243],\n",
       "         [108,  40, 203, ..., 135, 174, 175],\n",
       "         ...,\n",
       "         [157,  71, 103, ...,  36, 196,  91],\n",
       "         [101, 160, 170, ..., 237, 155, 195],\n",
       "         [ 62, 214,  43, ..., 191, 146,  53]],\n",
       "\n",
       "        [[182, 220, 223, ...,  15, 166,  16],\n",
       "         [ 92, 174, 111, ..., 110, 222, 117],\n",
       "         [ 19, 244,   9, ...,  60, 161,   3],\n",
       "         ...,\n",
       "         [108,   6, 182, ...,  26, 107,  11],\n",
       "         [ 63, 133, 182, ..., 160,  29, 130],\n",
       "         [128, 125,  74, ..., 116, 230,  50]],\n",
       "\n",
       "        [[157, 114, 254, ...,  81, 113,  75],\n",
       "         [ 43, 154, 116, ...,  51, 109,  21],\n",
       "         [ 49, 104, 238, ..., 166, 203, 198],\n",
       "         ...,\n",
       "         [ 25, 178, 234, ...,  90,  28, 104],\n",
       "         [ 51, 172,   9, ...,  34, 188,  99],\n",
       "         [120,  60,  19, ...,  91, 174, 181]]]])"
      ]
     },
     "execution_count": 6,
     "metadata": {},
     "output_type": "execute_result"
    }
   ],
   "source": [
    "my_data"
   ]
  }
 ],
 "metadata": {
  "kernelspec": {
   "display_name": "Python 3.10.0 64-bit ('new')",
   "language": "python",
   "name": "python3"
  },
  "language_info": {
   "codemirror_mode": {
    "name": "ipython",
    "version": 3
   },
   "file_extension": ".py",
   "mimetype": "text/x-python",
   "name": "python",
   "nbconvert_exporter": "python",
   "pygments_lexer": "ipython3",
   "version": "3.10.0"
  },
  "orig_nbformat": 4,
  "vscode": {
   "interpreter": {
    "hash": "5c39067fb85dad44b96a991ff273746e02ffde2a07ab0e300120c2298a074d00"
   }
  }
 },
 "nbformat": 4,
 "nbformat_minor": 2
}
