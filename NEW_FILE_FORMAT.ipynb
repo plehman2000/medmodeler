{
 "cells": [
  {
   "cell_type": "code",
   "execution_count": 2,
   "metadata": {},
   "outputs": [],
   "source": [
    "import numpy as np\n",
    "test_arr = np.load(os.getcwd() + \"/DATA/sample/sample0.npy\")\n",
    "test_arr = test_arr.tolist()\n",
    "test_arr = test_arr[:][:][:][:5]\n"
   ]
  },
  {
   "cell_type": "code",
   "execution_count": 4,
   "metadata": {},
   "outputs": [
    {
     "data": {
      "text/plain": [
       "(1, 512, 512, 75)"
      ]
     },
     "execution_count": 4,
     "metadata": {},
     "output_type": "execute_result"
    }
   ],
   "source": [
    "np.shape(test_arr)"
   ]
  },
  {
   "cell_type": "code",
   "execution_count": 6,
   "metadata": {},
   "outputs": [],
   "source": [
    "\n",
    "file_path = os.getcwd() + \"\\DATA\\\\npz\\\\\" + \"sample0.npz\" ## your path variable\n",
    "np.savez_compressed(file_path, test_data=test_arr)"
   ]
  },
  {
   "cell_type": "code",
   "execution_count": 57,
   "metadata": {},
   "outputs": [],
   "source": [
    "import numpy as np\n",
    "\n",
    "sz = np.array([1,500,500,12])\n",
    "my_data = np.random.randint(1,3, size = sz) # Generate an array with 250 elements; each element is an integer between 0~254\n",
    "my_data = my_data.astype(np.single)\n",
    "np.savez_compressed('data.npz', size=sz,mri_data=my_data) # Name that array 'test_data' and save it into 'data.npz' file"
   ]
  },
  {
   "cell_type": "code",
   "execution_count": 55,
   "metadata": {},
   "outputs": [
    {
     "name": "stdout",
     "output_type": "stream",
     "text": [
      "[  1 500 500  12]\n",
      "[[[[2. 2. 1. ... 2. 2. 1.]\n",
      "   [1. 2. 1. ... 2. 1. 1.]\n",
      "   [2. 2. 2. ... 1. 1. 2.]\n",
      "   ...\n",
      "   [2. 2. 2. ... 2. 2. 2.]\n",
      "   [2. 1. 2. ... 1. 2. 2.]\n",
      "   [1. 2. 2. ... 1. 2. 2.]]\n",
      "\n",
      "  [[1. 2. 1. ... 1. 1. 2.]\n",
      "   [1. 2. 1. ... 1. 1. 1.]\n",
      "   [2. 2. 1. ... 1. 1. 1.]\n",
      "   ...\n",
      "   [2. 2. 1. ... 2. 2. 2.]\n",
      "   [1. 1. 1. ... 1. 2. 1.]\n",
      "   [1. 2. 1. ... 2. 2. 2.]]\n",
      "\n",
      "  [[1. 1. 1. ... 1. 2. 2.]\n",
      "   [2. 2. 2. ... 1. 2. 2.]\n",
      "   [1. 2. 1. ... 1. 1. 2.]\n",
      "   ...\n",
      "   [2. 2. 1. ... 2. 1. 1.]\n",
      "   [2. 2. 2. ... 2. 1. 1.]\n",
      "   [2. 2. 2. ... 1. 1. 1.]]\n",
      "\n",
      "  ...\n",
      "\n",
      "  [[1. 2. 2. ... 1. 1. 2.]\n",
      "   [1. 2. 2. ... 1. 1. 1.]\n",
      "   [1. 2. 1. ... 1. 2. 1.]\n",
      "   ...\n",
      "   [2. 1. 1. ... 1. 2. 1.]\n",
      "   [2. 2. 1. ... 2. 2. 1.]\n",
      "   [1. 2. 1. ... 1. 2. 2.]]\n",
      "\n",
      "  [[2. 1. 1. ... 1. 2. 2.]\n",
      "   [1. 2. 2. ... 2. 2. 2.]\n",
      "   [2. 2. 2. ... 2. 1. 2.]\n",
      "   ...\n",
      "   [2. 1. 2. ... 1. 2. 1.]\n",
      "   [1. 1. 1. ... 1. 1. 2.]\n",
      "   [2. 1. 1. ... 2. 1. 1.]]\n",
      "\n",
      "  [[1. 1. 2. ... 2. 2. 2.]\n",
      "   [1. 2. 2. ... 2. 1. 2.]\n",
      "   [1. 1. 1. ... 2. 2. 2.]\n",
      "   ...\n",
      "   [2. 1. 2. ... 2. 2. 1.]\n",
      "   [1. 1. 2. ... 2. 2. 2.]\n",
      "   [2. 2. 2. ... 1. 1. 2.]]]]\n"
     ]
    }
   ],
   "source": [
    "b = np.load('data.npz')\n",
    "print(b['size'])\n",
    "print(b['mri_data'])"
   ]
  },
  {
   "cell_type": "code",
   "execution_count": null,
   "metadata": {},
   "outputs": [],
   "source": []
  }
 ],
 "metadata": {
  "kernelspec": {
   "display_name": "Python 3.10.0 64-bit ('new')",
   "language": "python",
   "name": "python3"
  },
  "language_info": {
   "codemirror_mode": {
    "name": "ipython",
    "version": 3
   },
   "file_extension": ".py",
   "mimetype": "text/x-python",
   "name": "python",
   "nbconvert_exporter": "python",
   "pygments_lexer": "ipython3",
   "version": "3.10.0"
  },
  "orig_nbformat": 4,
  "vscode": {
   "interpreter": {
    "hash": "5c39067fb85dad44b96a991ff273746e02ffde2a07ab0e300120c2298a074d00"
   }
  }
 },
 "nbformat": 4,
 "nbformat_minor": 2
}
